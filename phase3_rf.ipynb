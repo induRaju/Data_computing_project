{
 "cells": [
  {
   "cell_type": "code",
   "execution_count": 49,
   "id": "b13ef913",
   "metadata": {},
   "outputs": [],
   "source": [
    "# import libraries\n",
    "import pandas as pd\n",
    "import numpy as np\n",
    "import matplotlib.pyplot as plt\n",
    "import seaborn as sns\n",
    "import warnings\n",
    "warnings.filterwarnings(\"ignore\")\n",
    "from sklearn.model_selection import train_test_split\n",
    "from sklearn import preprocessing\n",
    "import matplotlib.mlab as mlab\n",
    "%matplotlib inline\n",
    "import matplotlib\n",
    "plt.style.use('ggplot')\n",
    "from matplotlib.pyplot import figure\n",
    "import os\n",
    "import io\n",
    "import requests\n",
    "import pickle\n",
    "from pandas.api.types import CategoricalDtype\n",
    "from sklearn.base import BaseEstimator, TransformerMixin\n",
    "from sklearn.pipeline import Pipeline\n",
    "from sklearn.metrics import accuracy_score\n",
    "from sklearn.linear_model import LogisticRegression\n",
    "from sklearn.model_selection import GridSearchCV\n",
    "from sklearn.metrics import classification_report\n",
    "from sklearn.metrics import confusion_matrix\n",
    "from sklearn.preprocessing import StandardScaler\n",
    "from sklearn.pipeline import FeatureUnion\n",
    "from sklearn.model_selection import cross_val_score\n",
    "from matplotlib import pyplot\n",
    "sns.set(style='white', context='notebook', palette='deep')\n",
    "from sklearn.naive_bayes import GaussianNB\n",
    "from sklearn.tree import DecisionTreeClassifier\n",
    "from sklearn.ensemble import RandomForestClassifier\n",
    "# import the metrics class\n",
    "from sklearn import metrics\n",
    "from sklearn.metrics import roc_curve, auc, roc_auc_score,precision_score, recall_score\n",
    "from sklearn.metrics import plot_confusion_matrix\n",
    "# To ignore warning messages\n",
    "import warnings\n",
    "warnings.filterwarnings('ignore')"
   ]
  },
  {
   "cell_type": "markdown",
   "id": "0bd50d5e",
   "metadata": {},
   "source": [
    "# Random Forest Income prediction"
   ]
  },
  {
   "cell_type": "code",
   "execution_count": 50,
   "id": "a7e67b5a",
   "metadata": {},
   "outputs": [
    {
     "data": {
      "text/html": [
       "<div>\n",
       "<style scoped>\n",
       "    .dataframe tbody tr th:only-of-type {\n",
       "        vertical-align: middle;\n",
       "    }\n",
       "\n",
       "    .dataframe tbody tr th {\n",
       "        vertical-align: top;\n",
       "    }\n",
       "\n",
       "    .dataframe thead th {\n",
       "        text-align: right;\n",
       "    }\n",
       "</style>\n",
       "<table border=\"1\" class=\"dataframe\">\n",
       "  <thead>\n",
       "    <tr style=\"text-align: right;\">\n",
       "      <th></th>\n",
       "      <th>age</th>\n",
       "      <th>workclass</th>\n",
       "      <th>fnlwgt</th>\n",
       "      <th>education</th>\n",
       "      <th>education.num</th>\n",
       "      <th>marital.status</th>\n",
       "      <th>occupation</th>\n",
       "      <th>relationship</th>\n",
       "      <th>race</th>\n",
       "      <th>sex</th>\n",
       "      <th>capital.gain</th>\n",
       "      <th>capital.loss</th>\n",
       "      <th>hours.per.week</th>\n",
       "      <th>native.country</th>\n",
       "      <th>income</th>\n",
       "    </tr>\n",
       "  </thead>\n",
       "  <tbody>\n",
       "    <tr>\n",
       "      <th>0</th>\n",
       "      <td>90.0</td>\n",
       "      <td>?</td>\n",
       "      <td>77053</td>\n",
       "      <td>HS-grad</td>\n",
       "      <td>9</td>\n",
       "      <td>Widowed</td>\n",
       "      <td>?</td>\n",
       "      <td>Not-in-family</td>\n",
       "      <td>White</td>\n",
       "      <td>Female</td>\n",
       "      <td>0</td>\n",
       "      <td>4356</td>\n",
       "      <td>40</td>\n",
       "      <td>United-States</td>\n",
       "      <td>&lt;=50K</td>\n",
       "    </tr>\n",
       "    <tr>\n",
       "      <th>1</th>\n",
       "      <td>82.0</td>\n",
       "      <td>Private</td>\n",
       "      <td>132870</td>\n",
       "      <td>HS-grad</td>\n",
       "      <td>9</td>\n",
       "      <td>Widowed</td>\n",
       "      <td>Exec-managerial</td>\n",
       "      <td>Not-in-family</td>\n",
       "      <td>White</td>\n",
       "      <td>Female</td>\n",
       "      <td>0</td>\n",
       "      <td>4356</td>\n",
       "      <td>18</td>\n",
       "      <td>United-States</td>\n",
       "      <td>&lt;=50K</td>\n",
       "    </tr>\n",
       "    <tr>\n",
       "      <th>2</th>\n",
       "      <td>66.0</td>\n",
       "      <td>?</td>\n",
       "      <td>186061</td>\n",
       "      <td>Some-college</td>\n",
       "      <td>10</td>\n",
       "      <td>Widowed</td>\n",
       "      <td>?</td>\n",
       "      <td>Unmarried</td>\n",
       "      <td>Black</td>\n",
       "      <td>Female</td>\n",
       "      <td>0</td>\n",
       "      <td>4356</td>\n",
       "      <td>40</td>\n",
       "      <td>United-States</td>\n",
       "      <td>&lt;=50K</td>\n",
       "    </tr>\n",
       "    <tr>\n",
       "      <th>3</th>\n",
       "      <td>54.0</td>\n",
       "      <td>Private</td>\n",
       "      <td>140359</td>\n",
       "      <td>7th-8th</td>\n",
       "      <td>4</td>\n",
       "      <td>Divorced</td>\n",
       "      <td>Machine-op-inspct</td>\n",
       "      <td>Unmarried</td>\n",
       "      <td>White</td>\n",
       "      <td>Female</td>\n",
       "      <td>0</td>\n",
       "      <td>3900</td>\n",
       "      <td>40</td>\n",
       "      <td>United-States</td>\n",
       "      <td>&lt;=50K</td>\n",
       "    </tr>\n",
       "    <tr>\n",
       "      <th>4</th>\n",
       "      <td>41.0</td>\n",
       "      <td>Private</td>\n",
       "      <td>264663</td>\n",
       "      <td>Some-college</td>\n",
       "      <td>10</td>\n",
       "      <td>Separated</td>\n",
       "      <td>Prof-specialty</td>\n",
       "      <td>Own-child</td>\n",
       "      <td>White</td>\n",
       "      <td>Female</td>\n",
       "      <td>0</td>\n",
       "      <td>3900</td>\n",
       "      <td>40</td>\n",
       "      <td>United-States</td>\n",
       "      <td>&lt;=50K</td>\n",
       "    </tr>\n",
       "  </tbody>\n",
       "</table>\n",
       "</div>"
      ],
      "text/plain": [
       "    age workclass  fnlwgt     education  education.num marital.status  \\\n",
       "0  90.0         ?   77053       HS-grad              9        Widowed   \n",
       "1  82.0   Private  132870       HS-grad              9        Widowed   \n",
       "2  66.0         ?  186061  Some-college             10        Widowed   \n",
       "3  54.0   Private  140359       7th-8th              4       Divorced   \n",
       "4  41.0   Private  264663  Some-college             10      Separated   \n",
       "\n",
       "          occupation   relationship   race     sex  capital.gain  \\\n",
       "0                  ?  Not-in-family  White  Female             0   \n",
       "1    Exec-managerial  Not-in-family  White  Female             0   \n",
       "2                  ?      Unmarried  Black  Female             0   \n",
       "3  Machine-op-inspct      Unmarried  White  Female             0   \n",
       "4     Prof-specialty      Own-child  White  Female             0   \n",
       "\n",
       "   capital.loss  hours.per.week native.country income  \n",
       "0          4356              40  United-States  <=50K  \n",
       "1          4356              18  United-States  <=50K  \n",
       "2          4356              40  United-States  <=50K  \n",
       "3          3900              40  United-States  <=50K  \n",
       "4          3900              40  United-States  <=50K  "
      ]
     },
     "execution_count": 50,
     "metadata": {},
     "output_type": "execute_result"
    }
   ],
   "source": [
    "data = pd.read_csv(\"income.csv\")\n",
    "df = pd.DataFrame(data)\n",
    "df.head(5)"
   ]
  },
  {
   "cell_type": "code",
   "execution_count": 51,
   "id": "992b2bcb",
   "metadata": {},
   "outputs": [],
   "source": [
    "df.dropna(inplace=True)"
   ]
  },
  {
   "cell_type": "code",
   "execution_count": 52,
   "id": "3cd82fba",
   "metadata": {},
   "outputs": [
    {
     "data": {
      "text/html": [
       "<div>\n",
       "<style scoped>\n",
       "    .dataframe tbody tr th:only-of-type {\n",
       "        vertical-align: middle;\n",
       "    }\n",
       "\n",
       "    .dataframe tbody tr th {\n",
       "        vertical-align: top;\n",
       "    }\n",
       "\n",
       "    .dataframe thead th {\n",
       "        text-align: right;\n",
       "    }\n",
       "</style>\n",
       "<table border=\"1\" class=\"dataframe\">\n",
       "  <thead>\n",
       "    <tr style=\"text-align: right;\">\n",
       "      <th></th>\n",
       "      <th>age</th>\n",
       "      <th>workclass</th>\n",
       "      <th>fnlwgt</th>\n",
       "      <th>education</th>\n",
       "      <th>education.num</th>\n",
       "      <th>marital.status</th>\n",
       "      <th>occupation</th>\n",
       "      <th>relationship</th>\n",
       "      <th>race</th>\n",
       "      <th>sex</th>\n",
       "      <th>capital.gain</th>\n",
       "      <th>capital.loss</th>\n",
       "      <th>hours.per.week</th>\n",
       "      <th>native.country</th>\n",
       "      <th>income</th>\n",
       "    </tr>\n",
       "  </thead>\n",
       "  <tbody>\n",
       "    <tr>\n",
       "      <th>0</th>\n",
       "      <td>90.0</td>\n",
       "      <td>?</td>\n",
       "      <td>77053</td>\n",
       "      <td>HS-grad</td>\n",
       "      <td>9</td>\n",
       "      <td>Widowed</td>\n",
       "      <td>?</td>\n",
       "      <td>Not-in-family</td>\n",
       "      <td>White</td>\n",
       "      <td>Female</td>\n",
       "      <td>0</td>\n",
       "      <td>4356</td>\n",
       "      <td>40</td>\n",
       "      <td>United-States</td>\n",
       "      <td>0</td>\n",
       "    </tr>\n",
       "    <tr>\n",
       "      <th>1</th>\n",
       "      <td>82.0</td>\n",
       "      <td>Private</td>\n",
       "      <td>132870</td>\n",
       "      <td>HS-grad</td>\n",
       "      <td>9</td>\n",
       "      <td>Widowed</td>\n",
       "      <td>Exec-managerial</td>\n",
       "      <td>Not-in-family</td>\n",
       "      <td>White</td>\n",
       "      <td>Female</td>\n",
       "      <td>0</td>\n",
       "      <td>4356</td>\n",
       "      <td>18</td>\n",
       "      <td>United-States</td>\n",
       "      <td>0</td>\n",
       "    </tr>\n",
       "    <tr>\n",
       "      <th>2</th>\n",
       "      <td>66.0</td>\n",
       "      <td>?</td>\n",
       "      <td>186061</td>\n",
       "      <td>Some-college</td>\n",
       "      <td>10</td>\n",
       "      <td>Widowed</td>\n",
       "      <td>?</td>\n",
       "      <td>Unmarried</td>\n",
       "      <td>Black</td>\n",
       "      <td>Female</td>\n",
       "      <td>0</td>\n",
       "      <td>4356</td>\n",
       "      <td>40</td>\n",
       "      <td>United-States</td>\n",
       "      <td>0</td>\n",
       "    </tr>\n",
       "    <tr>\n",
       "      <th>3</th>\n",
       "      <td>54.0</td>\n",
       "      <td>Private</td>\n",
       "      <td>140359</td>\n",
       "      <td>7th-8th</td>\n",
       "      <td>4</td>\n",
       "      <td>Divorced</td>\n",
       "      <td>Machine-op-inspct</td>\n",
       "      <td>Unmarried</td>\n",
       "      <td>White</td>\n",
       "      <td>Female</td>\n",
       "      <td>0</td>\n",
       "      <td>3900</td>\n",
       "      <td>40</td>\n",
       "      <td>United-States</td>\n",
       "      <td>0</td>\n",
       "    </tr>\n",
       "  </tbody>\n",
       "</table>\n",
       "</div>"
      ],
      "text/plain": [
       "    age workclass  fnlwgt     education  education.num marital.status  \\\n",
       "0  90.0         ?   77053       HS-grad              9        Widowed   \n",
       "1  82.0   Private  132870       HS-grad              9        Widowed   \n",
       "2  66.0         ?  186061  Some-college             10        Widowed   \n",
       "3  54.0   Private  140359       7th-8th              4       Divorced   \n",
       "\n",
       "          occupation   relationship   race     sex  capital.gain  \\\n",
       "0                  ?  Not-in-family  White  Female             0   \n",
       "1    Exec-managerial  Not-in-family  White  Female             0   \n",
       "2                  ?      Unmarried  Black  Female             0   \n",
       "3  Machine-op-inspct      Unmarried  White  Female             0   \n",
       "\n",
       "   capital.loss  hours.per.week native.country  income  \n",
       "0          4356              40  United-States       0  \n",
       "1          4356              18  United-States       0  \n",
       "2          4356              40  United-States       0  \n",
       "3          3900              40  United-States       0  "
      ]
     },
     "execution_count": 52,
     "metadata": {},
     "output_type": "execute_result"
    }
   ],
   "source": [
    "df['income']=df['income'].map({'<=50K': 0, '>50K': 1, '<=50K.': 0, '>50K.': 1})\n",
    "df.head(4)"
   ]
  },
  {
   "cell_type": "code",
   "execution_count": 53,
   "id": "4983ab3f",
   "metadata": {},
   "outputs": [],
   "source": [
    "# code will replace the special character to nan and then drop the columns \n",
    "df['native.country'] = df['native.country'].replace('?',np.nan)\n",
    "df['workclass'] = df['workclass'].replace('?',np.nan)\n",
    "df['occupation'] = df['occupation'].replace('?',np.nan)\n",
    "df['marital.status'] = df['marital.status'].replace('?',np.nan)\n",
    "df['hours.per.week'] = df['hours.per.week'].replace('?',np.nan)\n",
    "df['income'] = df['income'].replace('?',np.nan)\n"
   ]
  },
  {
   "cell_type": "code",
   "execution_count": 54,
   "id": "baf4233c",
   "metadata": {},
   "outputs": [],
   "source": [
    "df['native.country'] = ['Others' if x != ('Mexico') and x != ('United-States') and x != ('Canada') and x != ('India') and x != ('Philippines')\n",
    "                                 and x != ('Germany') and x != ('Puerto-Rico') and x != ('El-Salvador') else x for x in df['native.country']]"
   ]
  },
  {
   "cell_type": "code",
   "execution_count": 55,
   "id": "0908cd26",
   "metadata": {},
   "outputs": [
    {
     "data": {
      "text/plain": [
       "array(['HS-grad', 'Some-college', '7th-8th', '10th', 'Doctorate',\n",
       "       'Prof-school', 'Bachelors', 'Masters', '11th', 'Assoc-acdm',\n",
       "       'Assoc-voc', '1st-4th', '5th-6th', '12th', '9th', 'Preschool'],\n",
       "      dtype=object)"
      ]
     },
     "execution_count": 55,
     "metadata": {},
     "output_type": "execute_result"
    }
   ],
   "source": [
    "df['education'].unique()"
   ]
  },
  {
   "cell_type": "code",
   "execution_count": 56,
   "id": "36ed0b7d",
   "metadata": {},
   "outputs": [],
   "source": [
    "def customize_edu_level(x):\n",
    "    if 'Bachelors' in x:\n",
    "        return 'Bachelor’s degree'\n",
    "    if 'Masters' in x:\n",
    "        return 'Master’s degree'\n",
    "    if 'Prof-school' in x or 'Doctorate' in x:\n",
    "        return 'Ph.d or Doctorate degree'\n",
    "    return 'Less than a Bachelors'\n",
    "\n",
    "df['education'] = df['education'].apply(customize_edu_level)"
   ]
  },
  {
   "cell_type": "code",
   "execution_count": 57,
   "id": "006f8ad6",
   "metadata": {},
   "outputs": [
    {
     "data": {
      "text/plain": [
       "array(['Private', 'State-gov', 'Federal-gov', 'Self-emp-not-inc',\n",
       "       'Self-emp-inc', 'Local-gov', 'Without-pay'], dtype=object)"
      ]
     },
     "execution_count": 57,
     "metadata": {},
     "output_type": "execute_result"
    }
   ],
   "source": [
    "df.dropna(inplace=True)\n",
    "df['workclass'].unique()"
   ]
  },
  {
   "cell_type": "code",
   "execution_count": 58,
   "id": "40fe29ab",
   "metadata": {},
   "outputs": [],
   "source": [
    "def customize_workclass(x):\n",
    "    if 'Private' in x:\n",
    "        return 'Private'\n",
    "    if 'State-gov' in x:\n",
    "        return 'State Government'\n",
    "    if 'Federal-gov' in x:\n",
    "        return 'Federal Government'\n",
    "    if 'Local-gov' in x:\n",
    "        return 'Local Government'\n",
    "    if 'Self-emp-not-inc' or 'Self-emp-inc' in x:\n",
    "        return 'Self employed'\n",
    "\n",
    "df['workclass'] = df['workclass'].apply(customize_workclass)"
   ]
  },
  {
   "cell_type": "code",
   "execution_count": 59,
   "id": "8eebf5fd",
   "metadata": {},
   "outputs": [
    {
     "data": {
      "text/plain": [
       "array(['Exec-managerial', 'Machine-op-inspct', 'Prof-specialty',\n",
       "       'Other-service', 'Adm-clerical', 'Craft-repair',\n",
       "       'Transport-moving', 'Handlers-cleaners', 'Sales',\n",
       "       'Farming-fishing', 'Tech-support', 'Protective-serv',\n",
       "       'Armed-Forces', 'Priv-house-serv'], dtype=object)"
      ]
     },
     "execution_count": 59,
     "metadata": {},
     "output_type": "execute_result"
    }
   ],
   "source": [
    "df.dropna(inplace=True)\n",
    "df['occupation'].unique()"
   ]
  },
  {
   "cell_type": "code",
   "execution_count": 60,
   "id": "ae295ae6",
   "metadata": {},
   "outputs": [],
   "source": [
    "def customize_occupation(x):\n",
    "    if 'Exec-managerial' in x:\n",
    "        return 'Executive Manager'\n",
    "    if 'Prof-specialty' in x:\n",
    "        return 'Professional specialist '\n",
    "    if 'Craft-repair' in x:\n",
    "        return 'Craft Occupation'\n",
    "    if 'Adm-clerical' in x:\n",
    "        return 'Admin clerical'\n",
    "    if 'Sales' in x:\n",
    "        return 'Sales'\n",
    "    return 'Other Service'\n",
    "\n",
    "df['occupation'] = df['occupation'].apply(customize_occupation)"
   ]
  },
  {
   "cell_type": "code",
   "execution_count": 61,
   "id": "dfe9e005",
   "metadata": {},
   "outputs": [
    {
     "data": {
      "text/plain": [
       "array([18, 40, 45, 20, 60, 35, 55, 76, 50, 42, 25, 32, 90, 48, 70, 52, 72,\n",
       "       39,  6, 65, 80, 67, 99, 30, 75, 12, 26, 10, 84, 38, 62, 44,  8, 28,\n",
       "       59,  5, 24, 57, 34, 37, 46, 56, 41, 98, 43, 15, 63,  1, 36, 47, 68,\n",
       "       54,  2, 16,  9,  3,  4, 33, 23, 22, 64, 51, 19, 58, 53, 96, 66, 21,\n",
       "        7, 13, 27, 14, 77, 31, 78, 11, 49, 17, 85, 87, 88, 73, 89, 97, 94,\n",
       "       29, 82, 86, 91, 81, 92, 61, 74, 95], dtype=int64)"
      ]
     },
     "execution_count": 61,
     "metadata": {},
     "output_type": "execute_result"
    }
   ],
   "source": [
    "df['hours.per.week'].unique()"
   ]
  },
  {
   "cell_type": "code",
   "execution_count": 62,
   "id": "564c78a1",
   "metadata": {},
   "outputs": [],
   "source": [
    "def customize_hours_work(x):\n",
    "    if x <= 20:\n",
    "        return 'Below 20'\n",
    "    if x <= 40 and x > 20:\n",
    "        return '20 - 40'\n",
    "    if x <= 60 and x > 40:\n",
    "        return '40 - 60'\n",
    "    if x <= 80 and x > 60:\n",
    "        return '60 - 80'\n",
    "    if x > 80:\n",
    "        return 'Above 80'\n",
    "    \n",
    "df['hours.per.week'] = df['hours.per.week'].apply(customize_hours_work)"
   ]
  },
  {
   "cell_type": "code",
   "execution_count": 63,
   "id": "c78fca23",
   "metadata": {},
   "outputs": [
    {
     "data": {
      "text/plain": [
       "array(['Widowed', 'Divorced', 'Separated', 'Never-married',\n",
       "       'Married-civ-spouse', 'Married-spouse-absent', 'Married-AF-spouse'],\n",
       "      dtype=object)"
      ]
     },
     "execution_count": 63,
     "metadata": {},
     "output_type": "execute_result"
    }
   ],
   "source": [
    "df['marital.status'].unique()"
   ]
  },
  {
   "cell_type": "code",
   "execution_count": 64,
   "id": "7a7ae2f6",
   "metadata": {},
   "outputs": [
    {
     "data": {
      "text/plain": [
       "array([82., 54., 41., 34., 38., 74., 68., 45., 52., 32., 46., 57., 22.,\n",
       "       37., 29., 61., 51., 21., 33., 49., 23., 59., 60., 63., 53., 44.,\n",
       "       43., 48., 71., 73., 40., 50., 42., 39., 55., 47., 31., 58., 62.,\n",
       "       36., 67., 72., 78., 83., 26., 70., 27., 35., 81., 66., 65., 25.,\n",
       "       28., 56., 20., 30., 90., 24., 64., 75., 19., 77., 80., 18., 17.,\n",
       "       69., 79., 76., 88., 84., 85., 86.])"
      ]
     },
     "execution_count": 64,
     "metadata": {},
     "output_type": "execute_result"
    }
   ],
   "source": [
    "df['age'].unique()"
   ]
  },
  {
   "cell_type": "code",
   "execution_count": 65,
   "id": "4bd5abcd",
   "metadata": {},
   "outputs": [],
   "source": [
    "def customize_age(x):\n",
    "    if x < 20:\n",
    "        return 'Below 20'\n",
    "    if x <= 30 and x >= 20:\n",
    "        return '20 - 30'\n",
    "    if x <= 40 and x > 30:\n",
    "        return '31 - 40'\n",
    "    if x <= 50 and x > 40:\n",
    "        return '41 - 50'\n",
    "    if x <= 60 and x > 50:\n",
    "        return '51- 60'\n",
    "    if x > 60:\n",
    "        return 'Above 60'\n",
    "    \n",
    "df['age'] = df['age'].apply(customize_age)"
   ]
  },
  {
   "cell_type": "code",
   "execution_count": 66,
   "id": "fc215c32",
   "metadata": {},
   "outputs": [],
   "source": [
    "df_new = df.copy()"
   ]
  },
  {
   "cell_type": "code",
   "execution_count": 67,
   "id": "7b903807",
   "metadata": {},
   "outputs": [],
   "source": [
    "df_new.dropna(how='any',inplace=True)"
   ]
  },
  {
   "cell_type": "code",
   "execution_count": 68,
   "id": "24268ad1",
   "metadata": {},
   "outputs": [],
   "source": [
    "#dropping based on uniquness of data from the dataset \n",
    "df_new.drop(['fnlwgt', 'capital.gain','capital.loss', 'education.num', 'sex', 'race', 'relationship'], axis=1, inplace=True)"
   ]
  },
  {
   "cell_type": "code",
   "execution_count": 69,
   "id": "9eaa5f24",
   "metadata": {},
   "outputs": [
    {
     "data": {
      "text/html": [
       "<div>\n",
       "<style scoped>\n",
       "    .dataframe tbody tr th:only-of-type {\n",
       "        vertical-align: middle;\n",
       "    }\n",
       "\n",
       "    .dataframe tbody tr th {\n",
       "        vertical-align: top;\n",
       "    }\n",
       "\n",
       "    .dataframe thead th {\n",
       "        text-align: right;\n",
       "    }\n",
       "</style>\n",
       "<table border=\"1\" class=\"dataframe\">\n",
       "  <thead>\n",
       "    <tr style=\"text-align: right;\">\n",
       "      <th></th>\n",
       "      <th>age</th>\n",
       "      <th>workclass</th>\n",
       "      <th>education</th>\n",
       "      <th>marital.status</th>\n",
       "      <th>occupation</th>\n",
       "      <th>hours.per.week</th>\n",
       "      <th>native.country</th>\n",
       "      <th>income</th>\n",
       "    </tr>\n",
       "  </thead>\n",
       "  <tbody>\n",
       "    <tr>\n",
       "      <th>1</th>\n",
       "      <td>Above 60</td>\n",
       "      <td>Private</td>\n",
       "      <td>Less than a Bachelors</td>\n",
       "      <td>Widowed</td>\n",
       "      <td>Executive Manager</td>\n",
       "      <td>Below 20</td>\n",
       "      <td>United-States</td>\n",
       "      <td>0</td>\n",
       "    </tr>\n",
       "    <tr>\n",
       "      <th>3</th>\n",
       "      <td>51- 60</td>\n",
       "      <td>Private</td>\n",
       "      <td>Less than a Bachelors</td>\n",
       "      <td>Divorced</td>\n",
       "      <td>Other Service</td>\n",
       "      <td>20 - 40</td>\n",
       "      <td>United-States</td>\n",
       "      <td>0</td>\n",
       "    </tr>\n",
       "    <tr>\n",
       "      <th>4</th>\n",
       "      <td>41 - 50</td>\n",
       "      <td>Private</td>\n",
       "      <td>Less than a Bachelors</td>\n",
       "      <td>Separated</td>\n",
       "      <td>Professional specialist</td>\n",
       "      <td>20 - 40</td>\n",
       "      <td>United-States</td>\n",
       "      <td>0</td>\n",
       "    </tr>\n",
       "    <tr>\n",
       "      <th>5</th>\n",
       "      <td>31 - 40</td>\n",
       "      <td>Private</td>\n",
       "      <td>Less than a Bachelors</td>\n",
       "      <td>Divorced</td>\n",
       "      <td>Other Service</td>\n",
       "      <td>40 - 60</td>\n",
       "      <td>United-States</td>\n",
       "      <td>0</td>\n",
       "    </tr>\n",
       "    <tr>\n",
       "      <th>6</th>\n",
       "      <td>31 - 40</td>\n",
       "      <td>Private</td>\n",
       "      <td>Less than a Bachelors</td>\n",
       "      <td>Separated</td>\n",
       "      <td>Admin clerical</td>\n",
       "      <td>20 - 40</td>\n",
       "      <td>United-States</td>\n",
       "      <td>0</td>\n",
       "    </tr>\n",
       "    <tr>\n",
       "      <th>...</th>\n",
       "      <td>...</td>\n",
       "      <td>...</td>\n",
       "      <td>...</td>\n",
       "      <td>...</td>\n",
       "      <td>...</td>\n",
       "      <td>...</td>\n",
       "      <td>...</td>\n",
       "      <td>...</td>\n",
       "    </tr>\n",
       "    <tr>\n",
       "      <th>32555</th>\n",
       "      <td>51- 60</td>\n",
       "      <td>Private</td>\n",
       "      <td>Master’s degree</td>\n",
       "      <td>Married-civ-spouse</td>\n",
       "      <td>Executive Manager</td>\n",
       "      <td>20 - 40</td>\n",
       "      <td>United-States</td>\n",
       "      <td>1</td>\n",
       "    </tr>\n",
       "    <tr>\n",
       "      <th>32556</th>\n",
       "      <td>20 - 30</td>\n",
       "      <td>Private</td>\n",
       "      <td>Less than a Bachelors</td>\n",
       "      <td>Never-married</td>\n",
       "      <td>Other Service</td>\n",
       "      <td>20 - 40</td>\n",
       "      <td>United-States</td>\n",
       "      <td>0</td>\n",
       "    </tr>\n",
       "    <tr>\n",
       "      <th>32557</th>\n",
       "      <td>20 - 30</td>\n",
       "      <td>Private</td>\n",
       "      <td>Less than a Bachelors</td>\n",
       "      <td>Married-civ-spouse</td>\n",
       "      <td>Other Service</td>\n",
       "      <td>20 - 40</td>\n",
       "      <td>United-States</td>\n",
       "      <td>0</td>\n",
       "    </tr>\n",
       "    <tr>\n",
       "      <th>32558</th>\n",
       "      <td>31 - 40</td>\n",
       "      <td>Private</td>\n",
       "      <td>Less than a Bachelors</td>\n",
       "      <td>Married-civ-spouse</td>\n",
       "      <td>Other Service</td>\n",
       "      <td>20 - 40</td>\n",
       "      <td>United-States</td>\n",
       "      <td>1</td>\n",
       "    </tr>\n",
       "    <tr>\n",
       "      <th>32559</th>\n",
       "      <td>51- 60</td>\n",
       "      <td>Private</td>\n",
       "      <td>Less than a Bachelors</td>\n",
       "      <td>Widowed</td>\n",
       "      <td>Admin clerical</td>\n",
       "      <td>20 - 40</td>\n",
       "      <td>United-States</td>\n",
       "      <td>0</td>\n",
       "    </tr>\n",
       "  </tbody>\n",
       "</table>\n",
       "<p>30695 rows × 8 columns</p>\n",
       "</div>"
      ],
      "text/plain": [
       "            age workclass              education      marital.status  \\\n",
       "1      Above 60   Private  Less than a Bachelors             Widowed   \n",
       "3        51- 60   Private  Less than a Bachelors            Divorced   \n",
       "4       41 - 50   Private  Less than a Bachelors           Separated   \n",
       "5       31 - 40   Private  Less than a Bachelors            Divorced   \n",
       "6       31 - 40   Private  Less than a Bachelors           Separated   \n",
       "...         ...       ...                    ...                 ...   \n",
       "32555    51- 60   Private        Master’s degree  Married-civ-spouse   \n",
       "32556   20 - 30   Private  Less than a Bachelors       Never-married   \n",
       "32557   20 - 30   Private  Less than a Bachelors  Married-civ-spouse   \n",
       "32558   31 - 40   Private  Less than a Bachelors  Married-civ-spouse   \n",
       "32559    51- 60   Private  Less than a Bachelors             Widowed   \n",
       "\n",
       "                     occupation hours.per.week native.country  income  \n",
       "1             Executive Manager       Below 20  United-States       0  \n",
       "3                 Other Service        20 - 40  United-States       0  \n",
       "4      Professional specialist         20 - 40  United-States       0  \n",
       "5                 Other Service        40 - 60  United-States       0  \n",
       "6                Admin clerical        20 - 40  United-States       0  \n",
       "...                         ...            ...            ...     ...  \n",
       "32555         Executive Manager        20 - 40  United-States       1  \n",
       "32556             Other Service        20 - 40  United-States       0  \n",
       "32557             Other Service        20 - 40  United-States       0  \n",
       "32558             Other Service        20 - 40  United-States       1  \n",
       "32559            Admin clerical        20 - 40  United-States       0  \n",
       "\n",
       "[30695 rows x 8 columns]"
      ]
     },
     "execution_count": 69,
     "metadata": {},
     "output_type": "execute_result"
    }
   ],
   "source": [
    "df_new"
   ]
  },
  {
   "cell_type": "code",
   "execution_count": 70,
   "id": "cee77259",
   "metadata": {},
   "outputs": [
    {
     "data": {
      "text/plain": [
       "array([1, 3, 0, 2])"
      ]
     },
     "execution_count": 70,
     "metadata": {},
     "output_type": "execute_result"
    }
   ],
   "source": [
    "from sklearn.preprocessing import LabelEncoder\n",
    "label_encode_edu = LabelEncoder()\n",
    "df_new['education'] = label_encode_edu.fit_transform(df_new['education'])\n",
    "df_new[\"education\"].unique()"
   ]
  },
  {
   "cell_type": "code",
   "execution_count": 71,
   "id": "9cdc7533",
   "metadata": {},
   "outputs": [
    {
     "data": {
      "text/plain": [
       "array([8, 5, 4, 3, 6, 0, 7, 2, 1])"
      ]
     },
     "execution_count": 71,
     "metadata": {},
     "output_type": "execute_result"
    }
   ],
   "source": [
    "label_encode_country = LabelEncoder()\n",
    "df_new['native.country'] = label_encode_country.fit_transform(df_new['native.country'])\n",
    "df_new[\"native.country\"].unique()"
   ]
  },
  {
   "cell_type": "code",
   "execution_count": 72,
   "id": "11c6e49a",
   "metadata": {},
   "outputs": [
    {
     "data": {
      "text/plain": [
       "array([4, 3, 2, 1, 0, 5])"
      ]
     },
     "execution_count": 72,
     "metadata": {},
     "output_type": "execute_result"
    }
   ],
   "source": [
    "label_encode_age = LabelEncoder()\n",
    "df_new['age'] = label_encode_age.fit_transform(df_new['age'])\n",
    "df_new[\"age\"].unique()"
   ]
  },
  {
   "cell_type": "code",
   "execution_count": 73,
   "id": "097e70e0",
   "metadata": {},
   "outputs": [
    {
     "data": {
      "text/plain": [
       "array([6, 0, 5, 4, 2, 3, 1])"
      ]
     },
     "execution_count": 73,
     "metadata": {},
     "output_type": "execute_result"
    }
   ],
   "source": [
    "label_encode_marital_status = LabelEncoder()\n",
    "df_new['marital.status'] = label_encode_marital_status.fit_transform(df_new['marital.status'])\n",
    "df_new[\"marital.status\"].unique()"
   ]
  },
  {
   "cell_type": "code",
   "execution_count": 74,
   "id": "7c663e25",
   "metadata": {},
   "outputs": [
    {
     "data": {
      "text/plain": [
       "array([4, 0, 1, 2, 3])"
      ]
     },
     "execution_count": 74,
     "metadata": {},
     "output_type": "execute_result"
    }
   ],
   "source": [
    "label_encode_work_hours = LabelEncoder()\n",
    "df_new['hours.per.week'] = label_encode_work_hours.fit_transform(df_new['hours.per.week'])\n",
    "df_new[\"hours.per.week\"].unique()"
   ]
  },
  {
   "cell_type": "code",
   "execution_count": 75,
   "id": "4715e741",
   "metadata": {},
   "outputs": [
    {
     "data": {
      "text/plain": [
       "array([2, 4, 0, 3, 1])"
      ]
     },
     "execution_count": 75,
     "metadata": {},
     "output_type": "execute_result"
    }
   ],
   "source": [
    "label_encode_workclass = LabelEncoder()\n",
    "df_new['workclass'] = label_encode_workclass.fit_transform(df_new['workclass'])\n",
    "df_new[\"workclass\"].unique()"
   ]
  },
  {
   "cell_type": "code",
   "execution_count": 76,
   "id": "d65353c0",
   "metadata": {},
   "outputs": [
    {
     "data": {
      "text/plain": [
       "array([2, 3, 4, 0, 1, 5])"
      ]
     },
     "execution_count": 76,
     "metadata": {},
     "output_type": "execute_result"
    }
   ],
   "source": [
    "label_encode_occupation = LabelEncoder()\n",
    "df_new['occupation'] = label_encode_occupation.fit_transform(df_new['occupation'])\n",
    "df_new[\"occupation\"].unique()"
   ]
  },
  {
   "cell_type": "code",
   "execution_count": 77,
   "id": "6ed268df",
   "metadata": {},
   "outputs": [
    {
     "data": {
      "text/html": [
       "<div>\n",
       "<style scoped>\n",
       "    .dataframe tbody tr th:only-of-type {\n",
       "        vertical-align: middle;\n",
       "    }\n",
       "\n",
       "    .dataframe tbody tr th {\n",
       "        vertical-align: top;\n",
       "    }\n",
       "\n",
       "    .dataframe thead th {\n",
       "        text-align: right;\n",
       "    }\n",
       "</style>\n",
       "<table border=\"1\" class=\"dataframe\">\n",
       "  <thead>\n",
       "    <tr style=\"text-align: right;\">\n",
       "      <th></th>\n",
       "      <th>age</th>\n",
       "      <th>workclass</th>\n",
       "      <th>education</th>\n",
       "      <th>marital.status</th>\n",
       "      <th>occupation</th>\n",
       "      <th>hours.per.week</th>\n",
       "      <th>native.country</th>\n",
       "      <th>income</th>\n",
       "    </tr>\n",
       "  </thead>\n",
       "  <tbody>\n",
       "    <tr>\n",
       "      <th>1</th>\n",
       "      <td>4</td>\n",
       "      <td>2</td>\n",
       "      <td>1</td>\n",
       "      <td>6</td>\n",
       "      <td>2</td>\n",
       "      <td>4</td>\n",
       "      <td>8</td>\n",
       "      <td>0</td>\n",
       "    </tr>\n",
       "    <tr>\n",
       "      <th>3</th>\n",
       "      <td>3</td>\n",
       "      <td>2</td>\n",
       "      <td>1</td>\n",
       "      <td>0</td>\n",
       "      <td>3</td>\n",
       "      <td>0</td>\n",
       "      <td>8</td>\n",
       "      <td>0</td>\n",
       "    </tr>\n",
       "    <tr>\n",
       "      <th>4</th>\n",
       "      <td>2</td>\n",
       "      <td>2</td>\n",
       "      <td>1</td>\n",
       "      <td>5</td>\n",
       "      <td>4</td>\n",
       "      <td>0</td>\n",
       "      <td>8</td>\n",
       "      <td>0</td>\n",
       "    </tr>\n",
       "    <tr>\n",
       "      <th>5</th>\n",
       "      <td>1</td>\n",
       "      <td>2</td>\n",
       "      <td>1</td>\n",
       "      <td>0</td>\n",
       "      <td>3</td>\n",
       "      <td>1</td>\n",
       "      <td>8</td>\n",
       "      <td>0</td>\n",
       "    </tr>\n",
       "    <tr>\n",
       "      <th>6</th>\n",
       "      <td>1</td>\n",
       "      <td>2</td>\n",
       "      <td>1</td>\n",
       "      <td>5</td>\n",
       "      <td>0</td>\n",
       "      <td>0</td>\n",
       "      <td>8</td>\n",
       "      <td>0</td>\n",
       "    </tr>\n",
       "  </tbody>\n",
       "</table>\n",
       "</div>"
      ],
      "text/plain": [
       "   age  workclass  education  marital.status  occupation  hours.per.week  \\\n",
       "1    4          2          1               6           2               4   \n",
       "3    3          2          1               0           3               0   \n",
       "4    2          2          1               5           4               0   \n",
       "5    1          2          1               0           3               1   \n",
       "6    1          2          1               5           0               0   \n",
       "\n",
       "   native.country  income  \n",
       "1               8       0  \n",
       "3               8       0  \n",
       "4               8       0  \n",
       "5               8       0  \n",
       "6               8       0  "
      ]
     },
     "execution_count": 77,
     "metadata": {},
     "output_type": "execute_result"
    }
   ],
   "source": [
    "df_new.head()"
   ]
  },
  {
   "cell_type": "code",
   "execution_count": 78,
   "id": "de0e2ff7",
   "metadata": {},
   "outputs": [],
   "source": [
    "X = df_new.drop('income',axis=1)\n",
    "y = df_new.income"
   ]
  },
  {
   "cell_type": "code",
   "execution_count": 79,
   "id": "e00c296a",
   "metadata": {},
   "outputs": [],
   "source": [
    "X_train, X_test, y_train, y_test = train_test_split(X, y, test_size=0.33, random_state=42,shuffle=True)"
   ]
  },
  {
   "cell_type": "code",
   "execution_count": 80,
   "id": "37441adf",
   "metadata": {},
   "outputs": [
    {
     "data": {
      "text/plain": [
       "array([0, 0, 0, ..., 0, 1, 0], dtype=int64)"
      ]
     },
     "execution_count": 80,
     "metadata": {},
     "output_type": "execute_result"
    }
   ],
   "source": [
    "rf=RandomForestClassifier(min_samples_split=30)\n",
    "# Train the model using the training sets\n",
    "rf.fit(X_train,y_train)\n",
    "predictions_rf =rf.predict(X_test)\n",
    "predictions_rf"
   ]
  },
  {
   "cell_type": "code",
   "execution_count": 81,
   "id": "39027618",
   "metadata": {},
   "outputs": [],
   "source": [
    "accuracy_rf = metrics.accuracy_score(y_test, predictions_rf)"
   ]
  },
  {
   "cell_type": "code",
   "execution_count": 82,
   "id": "45095d4c",
   "metadata": {},
   "outputs": [
    {
     "name": "stdout",
     "output_type": "stream",
     "text": [
      "The accuracy of the model is 82.5 %\n"
     ]
    }
   ],
   "source": [
    "print(f\"The accuracy of the model is {round(metrics.accuracy_score(y_test,predictions_rf),3)*100} %\")"
   ]
  },
  {
   "cell_type": "code",
   "execution_count": 83,
   "id": "e416d571",
   "metadata": {},
   "outputs": [
    {
     "name": "stdout",
     "output_type": "stream",
     "text": [
      "The AUC Score  is 87.3 %\n"
     ]
    }
   ],
   "source": [
    "auc_rf = roc_auc_score(y_test, rf.predict_proba(X_test)[:,1])\n",
    "print(f\"The AUC Score  is {round(auc_rf,3)*100} %\")"
   ]
  },
  {
   "cell_type": "code",
   "execution_count": 84,
   "id": "f8146a75",
   "metadata": {},
   "outputs": [],
   "source": [
    "#AUC Random Forest\n",
    "train_probs = rf.predict_proba(X_train)[:,1] \n",
    "probs = rf.predict_proba(X_test)[:, 1]\n",
    "train_predictions = rf.predict(X_train)"
   ]
  },
  {
   "cell_type": "code",
   "execution_count": 85,
   "id": "499d30e8",
   "metadata": {},
   "outputs": [],
   "source": [
    "def evaluate_model(y_pred, probs,train_predictions, train_probs):\n",
    "   \n",
    "     # Calculate false positive rates and true positive rates\n",
    "    base_fpr, base_tpr, _ = roc_curve(y_test, [1 for _ in range(len(y_test))])\n",
    "    model_fpr, model_tpr, _ = roc_curve(y_test, probs)\n",
    "    plt.figure(figsize = (8, 6))\n",
    "    plt.rcParams['font.size'] = 16\n",
    "    # Plot both curves\n",
    "    plt.plot(base_fpr, base_tpr, 'b', label = 'baseline')\n",
    "    plt.plot(model_fpr, model_tpr, 'r', label = 'model')\n",
    "    plt.legend()\n",
    "    plt.xlabel('False Positive Rate')\n",
    "    plt.ylabel('True Positive Rate')\n",
    "    plt.title('ROC Curves')\n",
    "    plt.show()"
   ]
  },
  {
   "cell_type": "code",
   "execution_count": 86,
   "id": "a7c6bbca",
   "metadata": {},
   "outputs": [
    {
     "data": {
      "image/png": "[encoded data removed]",
      "text/plain": [
       "<Figure size 576x432 with 1 Axes>"
      ]
     },
     "metadata": {},
     "output_type": "display_data"
    }
   ],
   "source": [
    "evaluate_model(predictions_rf,probs,train_predictions,train_probs)"
   ]
  },
  {
   "cell_type": "code",
   "execution_count": 87,
   "id": "97336f66",
   "metadata": {},
   "outputs": [
    {
     "data": {
      "image/png": "[encoded data removed]",
      "text/plain": [
       "<Figure size 360x360 with 2 Axes>"
      ]
     },
     "metadata": {},
     "output_type": "display_data"
    }
   ],
   "source": [
    "import itertools\n",
    "def plot_confusion_matrix(cm, classes, normalize = False,\n",
    "                          title='Confusion matrix',\n",
    "                          cmap=plt.cm.Greens): # can change color \n",
    "    plt.figure(figsize = (5, 5))\n",
    "    plt.imshow(cm, interpolation='nearest', cmap=cmap)\n",
    "    plt.title(title, size = 24)\n",
    "    plt.colorbar(aspect=4)\n",
    "    tick_marks = np.arange(len(classes))\n",
    "    plt.xticks(tick_marks, classes, rotation=45, size = 14)\n",
    "    plt.yticks(tick_marks, classes, size = 14)\n",
    "    fmt = '.2f' if normalize else 'd'\n",
    "    thresh = cm.max() / 2.\n",
    "    # Label the plot\n",
    "    for i, j in itertools.product(range(cm.shape[0]),range(cm.shape[1])):\n",
    "             plt.text(j, i, format(cm[i, j], fmt), \n",
    "             fontsize = 20,\n",
    "             horizontalalignment=\"center\",\n",
    "             color=\"white\" if cm[i, j] > thresh else \"black\")\n",
    "    \n",
    "    plt.tight_layout()\n",
    "    plt.ylabel('True label', size = 18)\n",
    "    plt.xlabel('Predicted label', size = 18)\n",
    "\n",
    "# Let's plot it out\n",
    "cm = confusion_matrix(y_test, predictions_rf)\n",
    "plot_confusion_matrix(cm, classes = ['0 - <50k', '1 - >50k'],\n",
    "                      title = 'Confusion Matrix')"
   ]
  },
  {
   "cell_type": "code",
   "execution_count": 88,
   "id": "20894c19",
   "metadata": {},
   "outputs": [
    {
     "name": "stdout",
     "output_type": "stream",
     "text": [
      "Feature: marital.status                      Importance: 0.39707865040177237\n",
      "Feature: education                           Importance: 0.22096062030259508\n",
      "Feature: occupation                          Importance: 0.1173502053327022\n",
      "Feature: age                                 Importance: 0.11615935332867988\n",
      "Feature: hours.per.week                      Importance: 0.06939231755957313\n",
      "Feature: workclass                           Importance: 0.05019991534957181\n",
      "Feature: native.country                      Importance: 0.02885893772510532\n"
     ]
    }
   ],
   "source": [
    "#Feature importance of our model\n",
    "feature_importances = list(zip(X_train, rf.feature_importances_))\n",
    "# Then sort the feature importances by most important first\n",
    "feature_importances_ranked = sorted(feature_importances, key = lambda x: x[1], reverse = True)\n",
    "# Print out the feature and importances\n",
    "[print('Feature: {:35} Importance: {}'.format(*pair)) for pair in feature_importances_ranked];"
   ]
  },
  {
   "cell_type": "code",
   "execution_count": 89,
   "id": "c784592e",
   "metadata": {},
   "outputs": [
    {
     "data": {
      "image/png": "[encoded data removed]",
      "text/plain": [
       "<Figure size 720x1008 with 1 Axes>"
      ]
     },
     "metadata": {},
     "output_type": "display_data"
    }
   ],
   "source": [
    "feature_names_8 = [i[0] for i in feature_importances_ranked[:8]]\n",
    "y_ticks = np.arange(0, len(feature_names_8))\n",
    "x_axis = [i[1] for i in feature_importances_ranked[:8]]\n",
    "plt.figure(figsize = (10, 14))\n",
    "plt.barh(feature_names_8, x_axis)   #horizontal barplot\n",
    "plt.title('Random Forest Feature Importance (Top 25)',\n",
    "          fontdict= {'fontname':'Comic Sans MS','fontsize' : 20})\n",
    "plt.xlabel('Features',fontdict= {'fontsize' : 16})\n",
    "plt.show()"
   ]
  },
  {
   "cell_type": "code",
   "execution_count": 90,
   "id": "7a944783",
   "metadata": {},
   "outputs": [
    {
     "data": {
      "text/html": [
       "<div>\n",
       "<style scoped>\n",
       "    .dataframe tbody tr th:only-of-type {\n",
       "        vertical-align: middle;\n",
       "    }\n",
       "\n",
       "    .dataframe tbody tr th {\n",
       "        vertical-align: top;\n",
       "    }\n",
       "\n",
       "    .dataframe thead th {\n",
       "        text-align: right;\n",
       "    }\n",
       "</style>\n",
       "<table border=\"1\" class=\"dataframe\">\n",
       "  <thead>\n",
       "    <tr style=\"text-align: right;\">\n",
       "      <th></th>\n",
       "      <th>age</th>\n",
       "      <th>workclass</th>\n",
       "      <th>education</th>\n",
       "      <th>marital.status</th>\n",
       "      <th>occupation</th>\n",
       "      <th>hours.per.week</th>\n",
       "      <th>native.country</th>\n",
       "    </tr>\n",
       "  </thead>\n",
       "  <tbody>\n",
       "    <tr>\n",
       "      <th>1</th>\n",
       "      <td>4</td>\n",
       "      <td>2</td>\n",
       "      <td>1</td>\n",
       "      <td>6</td>\n",
       "      <td>2</td>\n",
       "      <td>4</td>\n",
       "      <td>8</td>\n",
       "    </tr>\n",
       "    <tr>\n",
       "      <th>3</th>\n",
       "      <td>3</td>\n",
       "      <td>2</td>\n",
       "      <td>1</td>\n",
       "      <td>0</td>\n",
       "      <td>3</td>\n",
       "      <td>0</td>\n",
       "      <td>8</td>\n",
       "    </tr>\n",
       "    <tr>\n",
       "      <th>4</th>\n",
       "      <td>2</td>\n",
       "      <td>2</td>\n",
       "      <td>1</td>\n",
       "      <td>5</td>\n",
       "      <td>4</td>\n",
       "      <td>0</td>\n",
       "      <td>8</td>\n",
       "    </tr>\n",
       "    <tr>\n",
       "      <th>5</th>\n",
       "      <td>1</td>\n",
       "      <td>2</td>\n",
       "      <td>1</td>\n",
       "      <td>0</td>\n",
       "      <td>3</td>\n",
       "      <td>1</td>\n",
       "      <td>8</td>\n",
       "    </tr>\n",
       "    <tr>\n",
       "      <th>6</th>\n",
       "      <td>1</td>\n",
       "      <td>2</td>\n",
       "      <td>1</td>\n",
       "      <td>5</td>\n",
       "      <td>0</td>\n",
       "      <td>0</td>\n",
       "      <td>8</td>\n",
       "    </tr>\n",
       "    <tr>\n",
       "      <th>...</th>\n",
       "      <td>...</td>\n",
       "      <td>...</td>\n",
       "      <td>...</td>\n",
       "      <td>...</td>\n",
       "      <td>...</td>\n",
       "      <td>...</td>\n",
       "      <td>...</td>\n",
       "    </tr>\n",
       "    <tr>\n",
       "      <th>32555</th>\n",
       "      <td>3</td>\n",
       "      <td>2</td>\n",
       "      <td>2</td>\n",
       "      <td>2</td>\n",
       "      <td>2</td>\n",
       "      <td>0</td>\n",
       "      <td>8</td>\n",
       "    </tr>\n",
       "    <tr>\n",
       "      <th>32556</th>\n",
       "      <td>0</td>\n",
       "      <td>2</td>\n",
       "      <td>1</td>\n",
       "      <td>4</td>\n",
       "      <td>3</td>\n",
       "      <td>0</td>\n",
       "      <td>8</td>\n",
       "    </tr>\n",
       "    <tr>\n",
       "      <th>32557</th>\n",
       "      <td>0</td>\n",
       "      <td>2</td>\n",
       "      <td>1</td>\n",
       "      <td>2</td>\n",
       "      <td>3</td>\n",
       "      <td>0</td>\n",
       "      <td>8</td>\n",
       "    </tr>\n",
       "    <tr>\n",
       "      <th>32558</th>\n",
       "      <td>1</td>\n",
       "      <td>2</td>\n",
       "      <td>1</td>\n",
       "      <td>2</td>\n",
       "      <td>3</td>\n",
       "      <td>0</td>\n",
       "      <td>8</td>\n",
       "    </tr>\n",
       "    <tr>\n",
       "      <th>32559</th>\n",
       "      <td>3</td>\n",
       "      <td>2</td>\n",
       "      <td>1</td>\n",
       "      <td>6</td>\n",
       "      <td>0</td>\n",
       "      <td>0</td>\n",
       "      <td>8</td>\n",
       "    </tr>\n",
       "  </tbody>\n",
       "</table>\n",
       "<p>30695 rows × 7 columns</p>\n",
       "</div>"
      ],
      "text/plain": [
       "       age  workclass  education  marital.status  occupation  hours.per.week  \\\n",
       "1        4          2          1               6           2               4   \n",
       "3        3          2          1               0           3               0   \n",
       "4        2          2          1               5           4               0   \n",
       "5        1          2          1               0           3               1   \n",
       "6        1          2          1               5           0               0   \n",
       "...    ...        ...        ...             ...         ...             ...   \n",
       "32555    3          2          2               2           2               0   \n",
       "32556    0          2          1               4           3               0   \n",
       "32557    0          2          1               2           3               0   \n",
       "32558    1          2          1               2           3               0   \n",
       "32559    3          2          1               6           0               0   \n",
       "\n",
       "       native.country  \n",
       "1                   8  \n",
       "3                   8  \n",
       "4                   8  \n",
       "5                   8  \n",
       "6                   8  \n",
       "...               ...  \n",
       "32555               8  \n",
       "32556               8  \n",
       "32557               8  \n",
       "32558               8  \n",
       "32559               8  \n",
       "\n",
       "[30695 rows x 7 columns]"
      ]
     },
     "execution_count": 90,
     "metadata": {},
     "output_type": "execute_result"
    }
   ],
   "source": [
    "X"
   ]
  },
  {
   "cell_type": "code",
   "execution_count": 91,
   "id": "3410a406",
   "metadata": {},
   "outputs": [
    {
     "data": {
      "text/plain": [
       "array([['United-States', 'Master’s degree', 'Below 20', 'Below 20',\n",
       "        'Married-civ-spouse', 'State Government', 'Sales']], dtype='<U18')"
      ]
     },
     "execution_count": 91,
     "metadata": {},
     "output_type": "execute_result"
    }
   ],
   "source": [
    "# country, edlevel, yearscode, hours per week, marital status, work class, occupation\n",
    "X = np.array([[\"United-States\", 'Master’s degree', 'Below 20', 'Below 20', 'Married-civ-spouse', 'State Government', 'Sales' ]])\n",
    "X"
   ]
  },
  {
   "cell_type": "code",
   "execution_count": 92,
   "id": "2ece593e",
   "metadata": {},
   "outputs": [
    {
     "data": {
      "text/plain": [
       "array([[8., 2., 5., 4., 2., 4., 5.]])"
      ]
     },
     "execution_count": 92,
     "metadata": {},
     "output_type": "execute_result"
    }
   ],
   "source": [
    "X[:, 0] = label_encode_country.transform(X[:,0])\n",
    "X[:, 1] = label_encode_edu.transform(X[:,1])\n",
    "X[:, 2] = label_encode_age.transform(X[:,2])\n",
    "X[:, 3] = label_encode_work_hours.transform(X[:,3])\n",
    "X[:, 4] = label_encode_marital_status.transform(X[:,4])\n",
    "X[:, 5] = label_encode_workclass.transform(X[:,5])\n",
    "X[:, 6] = label_encode_occupation.transform(X[:,6])\n",
    "X = X.astype(float)\n",
    "X"
   ]
  },
  {
   "cell_type": "code",
   "execution_count": 93,
   "id": "eadee8da",
   "metadata": {},
   "outputs": [
    {
     "data": {
      "text/plain": [
       "array([0], dtype=int64)"
      ]
     },
     "execution_count": 93,
     "metadata": {},
     "output_type": "execute_result"
    }
   ],
   "source": [
    "y_pred = rf.predict(X)\n",
    "y_pred"
   ]
  },
  {
   "cell_type": "code",
   "execution_count": 94,
   "id": "1638f35d",
   "metadata": {},
   "outputs": [],
   "source": [
    "import pickle"
   ]
  },
  {
   "cell_type": "code",
   "execution_count": 95,
   "id": "25390fb4",
   "metadata": {},
   "outputs": [],
   "source": [
    "data = {\"model\": rf, \"label_encode_country\": label_encode_country, \"label_encode_edu\": label_encode_edu, \"label_encode_age\":label_encode_age, \"label_encode_work_hours\":label_encode_work_hours, \"label_encode_marital_status\":label_encode_marital_status, \"label_encode_workclass\":label_encode_workclass, \"label_encode_occupation\":label_encode_occupation}\n",
    "with open('random_forest_income_pred.pkl', 'wb') as file:\n",
    "    pickle.dump(data, file)"
   ]
  },
  {
   "cell_type": "code",
   "execution_count": 96,
   "id": "e4db84d3",
   "metadata": {},
   "outputs": [],
   "source": [
    "with open('random_forest_income_pred.pkl', 'rb') as file:\n",
    "    data = pickle.load(file)\n",
    "\n",
    "regressor_loaded = data[\"model\"]\n",
    "label_encode_country = data[\"label_encode_country\"]\n",
    "label_encode_edu = data[\"label_encode_edu\"]\n",
    "label_encode_age = data[\"label_encode_age\"]\n",
    "label_encode_work_hours = data[\"label_encode_work_hours\"]\n",
    "label_encode_marital_status = data[\"label_encode_marital_status\"]\n",
    "label_encode_workclass = data[\"label_encode_workclass\"]\n",
    "label_encode_occupation = data[\"label_encode_occupation\"]\n",
    "\n"
   ]
  },
  {
   "cell_type": "code",
   "execution_count": 97,
   "id": "61326377",
   "metadata": {},
   "outputs": [
    {
     "data": {
      "text/plain": [
       "array([0], dtype=int64)"
      ]
     },
     "execution_count": 97,
     "metadata": {},
     "output_type": "execute_result"
    }
   ],
   "source": [
    "y_pred = regressor_loaded.predict(X)\n",
    "y_pred"
   ]
  }
 ],
 "metadata": {
  "kernelspec": {
   "display_name": "Python 3.10.7 64-bit",
   "language": "python",
   "name": "python3"
  },
  "language_info": {
   "codemirror_mode": {
    "name": "ipython",
    "version": 3
   },
   "file_extension": ".py",
   "mimetype": "text/x-python",
   "name": "python",
   "nbconvert_exporter": "python",
   "pygments_lexer": "ipython3",
   "version": "3.10.7"
  },
  "vscode": {
   "interpreter": {
    "hash": "f553214b0de3ba5444c63e4c1efdc9a092970cc9d3d2dcb3aff56d8141d3d427"
   }
  }
 },
 "nbformat": 4,
 "nbformat_minor": 5
}
